{
  "nbformat": 4,
  "nbformat_minor": 0,
  "metadata": {
    "colab": {
      "provenance": [],
      "authorship_tag": "ABX9TyPXTaQUOfNXrOHAunBu80sg",
      "include_colab_link": true
    },
    "kernelspec": {
      "name": "python3",
      "display_name": "Python 3"
    },
    "language_info": {
      "name": "python"
    }
  },
  "cells": [
    {
      "cell_type": "markdown",
      "metadata": {
        "id": "view-in-github",
        "colab_type": "text"
      },
      "source": [
        "<a href=\"https://colab.research.google.com/github/Khushpreet-kaur1003/challenge-question/blob/main/challenge_question.ipynb\" target=\"_parent\"><img src=\"https://colab.research.google.com/assets/colab-badge.svg\" alt=\"Open In Colab\"/></a>"
      ]
    },
    {
      "cell_type": "code",
      "execution_count": 1,
      "metadata": {
        "colab": {
          "base_uri": "https://localhost:8080/"
        },
        "id": "jKLGfhh8swk4",
        "outputId": "0c777dfc-bd27-4f0d-c9e6-a54c63a0233e"
      },
      "outputs": [
        {
          "output_type": "stream",
          "name": "stdout",
          "text": [
            "['1', '2', '3', 'aman', 'ram', 'shyam']\n",
            "[1, 2, 3, 'aman', 'ram', 'shyam']\n"
          ]
        }
      ],
      "source": [
        "#challange question :\n",
        "#convert int to string-\n",
        "l=[\"ram\",1,\"shyam\",2,\"aman\",3]\n",
        "l=[str(i) for i in l ]\n",
        "l.sort()\n",
        "print(l)\n",
        "\n",
        "#converting string to int-\n",
        "l1=[]\n",
        "for i in l:\n",
        "  try:\n",
        "    l1.append(int(i))\n",
        "  except:\n",
        "    l1.append(i)\n",
        "print(l1)"
      ]
    }
  ]
}